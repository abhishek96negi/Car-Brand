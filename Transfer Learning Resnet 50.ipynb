{
  "nbformat": 4,
  "nbformat_minor": 0,
  "metadata": {
    "kernelspec": {
      "display_name": "Python 3",
      "language": "python",
      "name": "python3"
    },
    "language_info": {
      "codemirror_mode": {
        "name": "ipython",
        "version": 3
      },
      "file_extension": ".py",
      "mimetype": "text/x-python",
      "name": "python",
      "nbconvert_exporter": "python",
      "pygments_lexer": "ipython3",
      "version": "3.7.7"
    },
    "colab": {
      "name": "Transfer Learning Resnet 50.ipynb",
      "provenance": [],
      "collapsed_sections": [],
      "toc_visible": true
    },
    "accelerator": "GPU"
  },
  "cells": [
    {
      "cell_type": "markdown",
      "metadata": {
        "id": "kBHDNLfPz-i1"
      },
      "source": [
        "## Transfer Learning VGG 16 and VGG 19 using Keras"
      ]
    },
    {
      "cell_type": "code",
      "metadata": {
        "colab": {
          "base_uri": "https://localhost:8080/"
        },
        "id": "rBExJHJG0D9H",
        "outputId": "bb7cee06-a002-48d0-a4b1-a74e10c229ab"
      },
      "source": [
        "!pip install tensorflow-gpu "
      ],
      "execution_count": 3,
      "outputs": [
        {
          "output_type": "stream",
          "text": [
            "Requirement already satisfied: tensorflow-gpu in /usr/local/lib/python3.6/dist-packages (2.4.0)\n",
            "Requirement already satisfied: google-pasta~=0.2 in /usr/local/lib/python3.6/dist-packages (from tensorflow-gpu) (0.2.0)\n",
            "Requirement already satisfied: keras-preprocessing~=1.1.2 in /usr/local/lib/python3.6/dist-packages (from tensorflow-gpu) (1.1.2)\n",
            "Requirement already satisfied: opt-einsum~=3.3.0 in /usr/local/lib/python3.6/dist-packages (from tensorflow-gpu) (3.3.0)\n",
            "Requirement already satisfied: numpy~=1.19.2 in /usr/local/lib/python3.6/dist-packages (from tensorflow-gpu) (1.19.4)\n",
            "Requirement already satisfied: flatbuffers~=1.12.0 in /usr/local/lib/python3.6/dist-packages (from tensorflow-gpu) (1.12)\n",
            "Requirement already satisfied: six~=1.15.0 in /usr/local/lib/python3.6/dist-packages (from tensorflow-gpu) (1.15.0)\n",
            "Requirement already satisfied: wrapt~=1.12.1 in /usr/local/lib/python3.6/dist-packages (from tensorflow-gpu) (1.12.1)\n",
            "Requirement already satisfied: protobuf>=3.9.2 in /usr/local/lib/python3.6/dist-packages (from tensorflow-gpu) (3.12.4)\n",
            "Requirement already satisfied: typing-extensions~=3.7.4 in /usr/local/lib/python3.6/dist-packages (from tensorflow-gpu) (3.7.4.3)\n",
            "Requirement already satisfied: tensorboard~=2.4 in /usr/local/lib/python3.6/dist-packages (from tensorflow-gpu) (2.4.0)\n",
            "Requirement already satisfied: wheel~=0.35 in /usr/local/lib/python3.6/dist-packages (from tensorflow-gpu) (0.36.1)\n",
            "Requirement already satisfied: tensorflow-estimator<2.5.0,>=2.4.0rc0 in /usr/local/lib/python3.6/dist-packages (from tensorflow-gpu) (2.4.0)\n",
            "Requirement already satisfied: gast==0.3.3 in /usr/local/lib/python3.6/dist-packages (from tensorflow-gpu) (0.3.3)\n",
            "Requirement already satisfied: termcolor~=1.1.0 in /usr/local/lib/python3.6/dist-packages (from tensorflow-gpu) (1.1.0)\n",
            "Requirement already satisfied: h5py~=2.10.0 in /usr/local/lib/python3.6/dist-packages (from tensorflow-gpu) (2.10.0)\n",
            "Requirement already satisfied: astunparse~=1.6.3 in /usr/local/lib/python3.6/dist-packages (from tensorflow-gpu) (1.6.3)\n",
            "Requirement already satisfied: absl-py~=0.10 in /usr/local/lib/python3.6/dist-packages (from tensorflow-gpu) (0.10.0)\n",
            "Requirement already satisfied: grpcio~=1.32.0 in /usr/local/lib/python3.6/dist-packages (from tensorflow-gpu) (1.32.0)\n",
            "Requirement already satisfied: setuptools in /usr/local/lib/python3.6/dist-packages (from protobuf>=3.9.2->tensorflow-gpu) (50.3.2)\n",
            "Requirement already satisfied: werkzeug>=0.11.15 in /usr/local/lib/python3.6/dist-packages (from tensorboard~=2.4->tensorflow-gpu) (1.0.1)\n",
            "Requirement already satisfied: google-auth-oauthlib<0.5,>=0.4.1 in /usr/local/lib/python3.6/dist-packages (from tensorboard~=2.4->tensorflow-gpu) (0.4.2)\n",
            "Requirement already satisfied: google-auth<2,>=1.6.3 in /usr/local/lib/python3.6/dist-packages (from tensorboard~=2.4->tensorflow-gpu) (1.17.2)\n",
            "Requirement already satisfied: tensorboard-plugin-wit>=1.6.0 in /usr/local/lib/python3.6/dist-packages (from tensorboard~=2.4->tensorflow-gpu) (1.7.0)\n",
            "Requirement already satisfied: markdown>=2.6.8 in /usr/local/lib/python3.6/dist-packages (from tensorboard~=2.4->tensorflow-gpu) (3.3.3)\n",
            "Requirement already satisfied: requests<3,>=2.21.0 in /usr/local/lib/python3.6/dist-packages (from tensorboard~=2.4->tensorflow-gpu) (2.23.0)\n",
            "Requirement already satisfied: requests-oauthlib>=0.7.0 in /usr/local/lib/python3.6/dist-packages (from google-auth-oauthlib<0.5,>=0.4.1->tensorboard~=2.4->tensorflow-gpu) (1.3.0)\n",
            "Requirement already satisfied: cachetools<5.0,>=2.0.0 in /usr/local/lib/python3.6/dist-packages (from google-auth<2,>=1.6.3->tensorboard~=2.4->tensorflow-gpu) (4.1.1)\n",
            "Requirement already satisfied: pyasn1-modules>=0.2.1 in /usr/local/lib/python3.6/dist-packages (from google-auth<2,>=1.6.3->tensorboard~=2.4->tensorflow-gpu) (0.2.8)\n",
            "Requirement already satisfied: rsa<5,>=3.1.4; python_version >= \"3\" in /usr/local/lib/python3.6/dist-packages (from google-auth<2,>=1.6.3->tensorboard~=2.4->tensorflow-gpu) (4.6)\n",
            "Requirement already satisfied: importlib-metadata; python_version < \"3.8\" in /usr/local/lib/python3.6/dist-packages (from markdown>=2.6.8->tensorboard~=2.4->tensorflow-gpu) (3.1.1)\n",
            "Requirement already satisfied: chardet<4,>=3.0.2 in /usr/local/lib/python3.6/dist-packages (from requests<3,>=2.21.0->tensorboard~=2.4->tensorflow-gpu) (3.0.4)\n",
            "Requirement already satisfied: idna<3,>=2.5 in /usr/local/lib/python3.6/dist-packages (from requests<3,>=2.21.0->tensorboard~=2.4->tensorflow-gpu) (2.10)\n",
            "Requirement already satisfied: urllib3!=1.25.0,!=1.25.1,<1.26,>=1.21.1 in /usr/local/lib/python3.6/dist-packages (from requests<3,>=2.21.0->tensorboard~=2.4->tensorflow-gpu) (1.24.3)\n",
            "Requirement already satisfied: certifi>=2017.4.17 in /usr/local/lib/python3.6/dist-packages (from requests<3,>=2.21.0->tensorboard~=2.4->tensorflow-gpu) (2020.12.5)\n",
            "Requirement already satisfied: oauthlib>=3.0.0 in /usr/local/lib/python3.6/dist-packages (from requests-oauthlib>=0.7.0->google-auth-oauthlib<0.5,>=0.4.1->tensorboard~=2.4->tensorflow-gpu) (3.1.0)\n",
            "Requirement already satisfied: pyasn1<0.5.0,>=0.4.6 in /usr/local/lib/python3.6/dist-packages (from pyasn1-modules>=0.2.1->google-auth<2,>=1.6.3->tensorboard~=2.4->tensorflow-gpu) (0.4.8)\n",
            "Requirement already satisfied: zipp>=0.5 in /usr/local/lib/python3.6/dist-packages (from importlib-metadata; python_version < \"3.8\"->markdown>=2.6.8->tensorboard~=2.4->tensorflow-gpu) (3.4.0)\n"
          ],
          "name": "stdout"
        }
      ]
    },
    {
      "cell_type": "code",
      "metadata": {
        "colab": {
          "base_uri": "https://localhost:8080/"
        },
        "id": "8vNL7kVW0UYl",
        "outputId": "53f8dfbe-a782-4c78-f19a-f80df5e16c41"
      },
      "source": [
        "!nvidia-smi"
      ],
      "execution_count": 4,
      "outputs": [
        {
          "output_type": "stream",
          "text": [
            "Wed Dec 16 13:53:05 2020       \n",
            "+-----------------------------------------------------------------------------+\n",
            "| NVIDIA-SMI 455.45.01    Driver Version: 418.67       CUDA Version: 10.1     |\n",
            "|-------------------------------+----------------------+----------------------+\n",
            "| GPU  Name        Persistence-M| Bus-Id        Disp.A | Volatile Uncorr. ECC |\n",
            "| Fan  Temp  Perf  Pwr:Usage/Cap|         Memory-Usage | GPU-Util  Compute M. |\n",
            "|                               |                      |               MIG M. |\n",
            "|===============================+======================+======================|\n",
            "|   0  Tesla T4            Off  | 00000000:00:04.0 Off |                    0 |\n",
            "| N/A   52C    P8    10W /  70W |      0MiB / 15079MiB |      0%      Default |\n",
            "|                               |                      |                 ERR! |\n",
            "+-------------------------------+----------------------+----------------------+\n",
            "                                                                               \n",
            "+-----------------------------------------------------------------------------+\n",
            "| Processes:                                                                  |\n",
            "|  GPU   GI   CI        PID   Type   Process name                  GPU Memory |\n",
            "|        ID   ID                                                   Usage      |\n",
            "|=============================================================================|\n",
            "|  No running processes found                                                 |\n",
            "+-----------------------------------------------------------------------------+\n"
          ],
          "name": "stdout"
        }
      ]
    },
    {
      "cell_type": "markdown",
      "metadata": {
        "id": "pRdhxxC7z-jC"
      },
      "source": [
        "Please download the dataset from the below url"
      ]
    },
    {
      "cell_type": "code",
      "metadata": {
        "id": "5aT_sPeOz-jE"
      },
      "source": [
        "# import the libraries as shown below\n",
        "\n",
        "from tensorflow.keras.layers import Input, Lambda, Dense, Flatten\n",
        "from tensorflow.keras.models import Model\n",
        "from tensorflow.keras.applications.resnet50 import ResNet50\n",
        "from tensorflow.keras.applications.resnet50 import preprocess_input\n",
        "from tensorflow.keras.preprocessing import image\n",
        "from tensorflow.keras.preprocessing.image import ImageDataGenerator,load_img\n",
        "from tensorflow.keras.models import Sequential\n",
        "import numpy as np\n",
        "from glob import glob\n",
        "import matplotlib.pyplot as plt"
      ],
      "execution_count": 5,
      "outputs": []
    },
    {
      "cell_type": "code",
      "metadata": {
        "colab": {
          "base_uri": "https://localhost:8080/"
        },
        "id": "H3Cc2D6_05ji",
        "outputId": "71fdefb1-b68f-4ce0-c18e-441256a58968"
      },
      "source": [
        "! unzip Datasets.zip"
      ],
      "execution_count": 8,
      "outputs": [
        {
          "output_type": "stream",
          "text": [
            "Archive:  Datasets.zip\n",
            "   creating: Datasets/Test/\n",
            "   creating: Datasets/Test/audi/\n",
            "  inflating: Datasets/Test/audi/21.jpg  \n",
            "  inflating: Datasets/Test/audi/22.jpg  \n",
            "  inflating: Datasets/Test/audi/23.jpg  \n",
            "  inflating: Datasets/Test/audi/24.jpg  \n",
            "  inflating: Datasets/Test/audi/25.jpg  \n",
            "  inflating: Datasets/Test/audi/26.jpg  \n",
            "  inflating: Datasets/Test/audi/27.jpg  \n",
            " extracting: Datasets/Test/audi/28.jpg  \n",
            "  inflating: Datasets/Test/audi/29.jpg  \n",
            "   creating: Datasets/Test/lamborghini/\n",
            "  inflating: Datasets/Test/lamborghini/1.jpg  \n",
            "  inflating: Datasets/Test/lamborghini/10.jpg  \n",
            "  inflating: Datasets/Test/lamborghini/11.jpg  \n",
            "  inflating: Datasets/Test/lamborghini/12.jpg  \n",
            "  inflating: Datasets/Test/lamborghini/13.jpg  \n",
            "  inflating: Datasets/Test/lamborghini/14.jpg  \n",
            "  inflating: Datasets/Test/lamborghini/15.jpg  \n",
            "  inflating: Datasets/Test/lamborghini/16.jpg  \n",
            "  inflating: Datasets/Test/lamborghini/17.jpg  \n",
            "  inflating: Datasets/Test/lamborghini/18.jpg  \n",
            "  inflating: Datasets/Test/lamborghini/19.jpg  \n",
            "  inflating: Datasets/Test/lamborghini/2.jpg  \n",
            "  inflating: Datasets/Test/lamborghini/20.jog.jpg  \n",
            "  inflating: Datasets/Test/lamborghini/21.jpg  \n",
            "  inflating: Datasets/Test/lamborghini/22.jpg  \n",
            "  inflating: Datasets/Test/lamborghini/23.jpg  \n",
            "  inflating: Datasets/Test/lamborghini/24.jpg  \n",
            "  inflating: Datasets/Test/lamborghini/25.jpg  \n",
            "  inflating: Datasets/Test/lamborghini/26.jpg  \n",
            "  inflating: Datasets/Test/lamborghini/27.jpg  \n",
            "  inflating: Datasets/Test/lamborghini/28.jpg  \n",
            "  inflating: Datasets/Test/lamborghini/29.jpg  \n",
            "  inflating: Datasets/Test/lamborghini/3.jpg  \n",
            "  inflating: Datasets/Test/lamborghini/30.jpg  \n",
            "  inflating: Datasets/Test/lamborghini/4.jpg  \n",
            "  inflating: Datasets/Test/lamborghini/5.jpg  \n",
            "  inflating: Datasets/Test/lamborghini/6.jpg  \n",
            "  inflating: Datasets/Test/lamborghini/7.jpg  \n",
            "  inflating: Datasets/Test/lamborghini/8.jpg  \n",
            "  inflating: Datasets/Test/lamborghini/9.jpg  \n",
            "   creating: Datasets/Test/mercedes/\n",
            "  inflating: Datasets/Test/mercedes/27.jpg  \n",
            "  inflating: Datasets/Test/mercedes/28.jpg  \n",
            "  inflating: Datasets/Test/mercedes/29.jpg  \n",
            "  inflating: Datasets/Test/mercedes/30.jpg  \n",
            "  inflating: Datasets/Test/mercedes/31.jpg  \n",
            "  inflating: Datasets/Test/mercedes/32.jpg  \n",
            "  inflating: Datasets/Test/mercedes/33.jpg  \n",
            "  inflating: Datasets/Test/mercedes/34.jpg  \n",
            "  inflating: Datasets/Test/mercedes/35.jpg  \n",
            "  inflating: Datasets/Test/mercedes/36.jpg  \n",
            "  inflating: Datasets/Test/mercedes/37.jpg  \n",
            "  inflating: Datasets/Test/mercedes/38.jpg  \n",
            "  inflating: Datasets/Test/mercedes/39.jpg  \n",
            "  inflating: Datasets/Test/mercedes/40.jpg  \n",
            "  inflating: Datasets/Test/mercedes/41.jpg  \n",
            "  inflating: Datasets/Test/mercedes/42.jpg  \n",
            "  inflating: Datasets/Test/mercedes/43.jpg  \n",
            "  inflating: Datasets/Test/mercedes/44.jpg  \n",
            "  inflating: Datasets/Test/mercedes/45.jpg  \n",
            "   creating: Datasets/Train/\n",
            "   creating: Datasets/Train/audi/\n",
            "  inflating: Datasets/Train/audi/1.jpg  \n",
            "  inflating: Datasets/Train/audi/10.jpg  \n",
            "  inflating: Datasets/Train/audi/11.jpg  \n",
            "  inflating: Datasets/Train/audi/12.jpg  \n",
            "  inflating: Datasets/Train/audi/13.jpg  \n",
            "  inflating: Datasets/Train/audi/14.jpg  \n",
            "  inflating: Datasets/Train/audi/15.jpg  \n",
            "  inflating: Datasets/Train/audi/16.jpg  \n",
            "  inflating: Datasets/Train/audi/17.jpg  \n",
            "  inflating: Datasets/Train/audi/18.jpg  \n",
            "  inflating: Datasets/Train/audi/19.jpg  \n",
            "  inflating: Datasets/Train/audi/2.jpg  \n",
            "  inflating: Datasets/Train/audi/20.jpg  \n",
            "  inflating: Datasets/Train/audi/3.jpg  \n",
            "  inflating: Datasets/Train/audi/4.jpg  \n",
            "  inflating: Datasets/Train/audi/5.jpg  \n",
            "  inflating: Datasets/Train/audi/6.jpg  \n",
            "  inflating: Datasets/Train/audi/7.jpg  \n",
            "  inflating: Datasets/Train/audi/8.jpg  \n",
            "  inflating: Datasets/Train/audi/9.jpg  \n",
            "   creating: Datasets/Train/lamborghini/\n",
            "  inflating: Datasets/Train/lamborghini/1.jpg  \n",
            "  inflating: Datasets/Train/lamborghini/10.jpg  \n",
            "  inflating: Datasets/Train/lamborghini/11.jpg  \n",
            "  inflating: Datasets/Train/lamborghini/12.jpg  \n",
            "  inflating: Datasets/Train/lamborghini/13.jpg  \n",
            "  inflating: Datasets/Train/lamborghini/14.jpg  \n",
            "  inflating: Datasets/Train/lamborghini/15.jpg  \n",
            "  inflating: Datasets/Train/lamborghini/16.jpg  \n",
            "  inflating: Datasets/Train/lamborghini/17.jpg  \n",
            "  inflating: Datasets/Train/lamborghini/18.jpg  \n",
            "  inflating: Datasets/Train/lamborghini/19.jpg  \n",
            "  inflating: Datasets/Train/lamborghini/2.jpg  \n",
            "  inflating: Datasets/Train/lamborghini/3.jpg  \n",
            "  inflating: Datasets/Train/lamborghini/4.jpg  \n",
            "  inflating: Datasets/Train/lamborghini/5.jpg  \n",
            "  inflating: Datasets/Train/lamborghini/6.jpg  \n",
            "  inflating: Datasets/Train/lamborghini/7.jpg  \n",
            "  inflating: Datasets/Train/lamborghini/8.jpg  \n",
            "  inflating: Datasets/Train/lamborghini/9.jpg  \n",
            "   creating: Datasets/Train/mercedes/\n",
            "  inflating: Datasets/Train/mercedes/1.jpg  \n",
            "  inflating: Datasets/Train/mercedes/10.jpg  \n",
            "  inflating: Datasets/Train/mercedes/11.jpg  \n",
            "  inflating: Datasets/Train/mercedes/12.jpg  \n",
            "  inflating: Datasets/Train/mercedes/13.jpg  \n",
            "  inflating: Datasets/Train/mercedes/14.jpg  \n",
            "  inflating: Datasets/Train/mercedes/15.jpg  \n",
            "  inflating: Datasets/Train/mercedes/16.jpg  \n",
            "  inflating: Datasets/Train/mercedes/17.jpg  \n",
            "  inflating: Datasets/Train/mercedes/18.jpg  \n",
            "  inflating: Datasets/Train/mercedes/19.jpg  \n",
            "  inflating: Datasets/Train/mercedes/2.jpg  \n",
            "  inflating: Datasets/Train/mercedes/20.jpg  \n",
            "  inflating: Datasets/Train/mercedes/21.jpg  \n",
            "  inflating: Datasets/Train/mercedes/22.jpg  \n",
            "  inflating: Datasets/Train/mercedes/23.jpg  \n",
            "  inflating: Datasets/Train/mercedes/24.jpg  \n",
            "  inflating: Datasets/Train/mercedes/25.jpg  \n",
            " extracting: Datasets/Train/mercedes/3.jpg  \n",
            " extracting: Datasets/Train/mercedes/4.jpg  \n",
            "  inflating: Datasets/Train/mercedes/5.jpg  \n",
            "  inflating: Datasets/Train/mercedes/6.jpg  \n",
            "  inflating: Datasets/Train/mercedes/7.jpg  \n",
            "  inflating: Datasets/Train/mercedes/8.jpf.jpg  \n",
            "  inflating: Datasets/Train/mercedes/9.jpg  \n"
          ],
          "name": "stdout"
        }
      ]
    },
    {
      "cell_type": "code",
      "metadata": {
        "id": "ypc1OF3vz-jE"
      },
      "source": [
        "# re-size all the images to this\n",
        "IMAGE_SIZE = [224, 224]\n",
        "\n",
        "train_path = '/content/Datasets/Train'\n",
        "valid_path = '/content/Datasets/Test'\n"
      ],
      "execution_count": 9,
      "outputs": []
    },
    {
      "cell_type": "code",
      "metadata": {
        "colab": {
          "base_uri": "https://localhost:8080/"
        },
        "id": "e4NG8G0Tz-jF",
        "outputId": "96822bfd-45ac-41e6-948e-4914c6f37467"
      },
      "source": [
        "# Import the Vgg 16 library as shown below and add preprocessing layer to the front of VGG\n",
        "# Here we will be using imagenet weights\n",
        "\n",
        "resnet = ResNet50(input_shape=IMAGE_SIZE + [3], weights='imagenet', include_top=False)\n",
        "\n",
        "\n"
      ],
      "execution_count": 10,
      "outputs": [
        {
          "output_type": "stream",
          "text": [
            "Downloading data from https://storage.googleapis.com/tensorflow/keras-applications/resnet/resnet50_weights_tf_dim_ordering_tf_kernels_notop.h5\n",
            "94773248/94765736 [==============================] - 1s 0us/step\n"
          ],
          "name": "stdout"
        }
      ]
    },
    {
      "cell_type": "code",
      "metadata": {
        "id": "TXUHICygz-jH"
      },
      "source": [
        "# don't train existing weights\n",
        "for layer in resnet.layers:\n",
        "    layer.trainable = False"
      ],
      "execution_count": 11,
      "outputs": []
    },
    {
      "cell_type": "code",
      "metadata": {
        "id": "wIQdhwVpz-jH"
      },
      "source": [
        "  # useful for getting number of output classes\n",
        "folders = glob('/content/Datasets/Train/*')"
      ],
      "execution_count": 12,
      "outputs": []
    },
    {
      "cell_type": "code",
      "metadata": {
        "id": "E8JVCzDlz-jH"
      },
      "source": [
        "# our layers - you can add more if you want\n",
        "x = Flatten()(resnet.output)"
      ],
      "execution_count": 13,
      "outputs": []
    },
    {
      "cell_type": "code",
      "metadata": {
        "id": "fnm8M77gz-jI"
      },
      "source": [
        "prediction = Dense(len(folders), activation='softmax')(x)\n",
        "\n",
        "# create a model object\n",
        "model = Model(inputs=resnet.input, outputs=prediction)"
      ],
      "execution_count": 14,
      "outputs": []
    },
    {
      "cell_type": "code",
      "metadata": {
        "colab": {
          "base_uri": "https://localhost:8080/"
        },
        "id": "LL5ta2aSz-jI",
        "outputId": "8212cd13-38c4-4689-a635-c52427e439a1"
      },
      "source": [
        "# view the structure of the model\n",
        "model.summary()"
      ],
      "execution_count": 15,
      "outputs": [
        {
          "output_type": "stream",
          "text": [
            "Model: \"model\"\n",
            "__________________________________________________________________________________________________\n",
            "Layer (type)                    Output Shape         Param #     Connected to                     \n",
            "==================================================================================================\n",
            "input_1 (InputLayer)            [(None, 224, 224, 3) 0                                            \n",
            "__________________________________________________________________________________________________\n",
            "conv1_pad (ZeroPadding2D)       (None, 230, 230, 3)  0           input_1[0][0]                    \n",
            "__________________________________________________________________________________________________\n",
            "conv1_conv (Conv2D)             (None, 112, 112, 64) 9472        conv1_pad[0][0]                  \n",
            "__________________________________________________________________________________________________\n",
            "conv1_bn (BatchNormalization)   (None, 112, 112, 64) 256         conv1_conv[0][0]                 \n",
            "__________________________________________________________________________________________________\n",
            "conv1_relu (Activation)         (None, 112, 112, 64) 0           conv1_bn[0][0]                   \n",
            "__________________________________________________________________________________________________\n",
            "pool1_pad (ZeroPadding2D)       (None, 114, 114, 64) 0           conv1_relu[0][0]                 \n",
            "__________________________________________________________________________________________________\n",
            "pool1_pool (MaxPooling2D)       (None, 56, 56, 64)   0           pool1_pad[0][0]                  \n",
            "__________________________________________________________________________________________________\n",
            "conv2_block1_1_conv (Conv2D)    (None, 56, 56, 64)   4160        pool1_pool[0][0]                 \n",
            "__________________________________________________________________________________________________\n",
            "conv2_block1_1_bn (BatchNormali (None, 56, 56, 64)   256         conv2_block1_1_conv[0][0]        \n",
            "__________________________________________________________________________________________________\n",
            "conv2_block1_1_relu (Activation (None, 56, 56, 64)   0           conv2_block1_1_bn[0][0]          \n",
            "__________________________________________________________________________________________________\n",
            "conv2_block1_2_conv (Conv2D)    (None, 56, 56, 64)   36928       conv2_block1_1_relu[0][0]        \n",
            "__________________________________________________________________________________________________\n",
            "conv2_block1_2_bn (BatchNormali (None, 56, 56, 64)   256         conv2_block1_2_conv[0][0]        \n",
            "__________________________________________________________________________________________________\n",
            "conv2_block1_2_relu (Activation (None, 56, 56, 64)   0           conv2_block1_2_bn[0][0]          \n",
            "__________________________________________________________________________________________________\n",
            "conv2_block1_0_conv (Conv2D)    (None, 56, 56, 256)  16640       pool1_pool[0][0]                 \n",
            "__________________________________________________________________________________________________\n",
            "conv2_block1_3_conv (Conv2D)    (None, 56, 56, 256)  16640       conv2_block1_2_relu[0][0]        \n",
            "__________________________________________________________________________________________________\n",
            "conv2_block1_0_bn (BatchNormali (None, 56, 56, 256)  1024        conv2_block1_0_conv[0][0]        \n",
            "__________________________________________________________________________________________________\n",
            "conv2_block1_3_bn (BatchNormali (None, 56, 56, 256)  1024        conv2_block1_3_conv[0][0]        \n",
            "__________________________________________________________________________________________________\n",
            "conv2_block1_add (Add)          (None, 56, 56, 256)  0           conv2_block1_0_bn[0][0]          \n",
            "                                                                 conv2_block1_3_bn[0][0]          \n",
            "__________________________________________________________________________________________________\n",
            "conv2_block1_out (Activation)   (None, 56, 56, 256)  0           conv2_block1_add[0][0]           \n",
            "__________________________________________________________________________________________________\n",
            "conv2_block2_1_conv (Conv2D)    (None, 56, 56, 64)   16448       conv2_block1_out[0][0]           \n",
            "__________________________________________________________________________________________________\n",
            "conv2_block2_1_bn (BatchNormali (None, 56, 56, 64)   256         conv2_block2_1_conv[0][0]        \n",
            "__________________________________________________________________________________________________\n",
            "conv2_block2_1_relu (Activation (None, 56, 56, 64)   0           conv2_block2_1_bn[0][0]          \n",
            "__________________________________________________________________________________________________\n",
            "conv2_block2_2_conv (Conv2D)    (None, 56, 56, 64)   36928       conv2_block2_1_relu[0][0]        \n",
            "__________________________________________________________________________________________________\n",
            "conv2_block2_2_bn (BatchNormali (None, 56, 56, 64)   256         conv2_block2_2_conv[0][0]        \n",
            "__________________________________________________________________________________________________\n",
            "conv2_block2_2_relu (Activation (None, 56, 56, 64)   0           conv2_block2_2_bn[0][0]          \n",
            "__________________________________________________________________________________________________\n",
            "conv2_block2_3_conv (Conv2D)    (None, 56, 56, 256)  16640       conv2_block2_2_relu[0][0]        \n",
            "__________________________________________________________________________________________________\n",
            "conv2_block2_3_bn (BatchNormali (None, 56, 56, 256)  1024        conv2_block2_3_conv[0][0]        \n",
            "__________________________________________________________________________________________________\n",
            "conv2_block2_add (Add)          (None, 56, 56, 256)  0           conv2_block1_out[0][0]           \n",
            "                                                                 conv2_block2_3_bn[0][0]          \n",
            "__________________________________________________________________________________________________\n",
            "conv2_block2_out (Activation)   (None, 56, 56, 256)  0           conv2_block2_add[0][0]           \n",
            "__________________________________________________________________________________________________\n",
            "conv2_block3_1_conv (Conv2D)    (None, 56, 56, 64)   16448       conv2_block2_out[0][0]           \n",
            "__________________________________________________________________________________________________\n",
            "conv2_block3_1_bn (BatchNormali (None, 56, 56, 64)   256         conv2_block3_1_conv[0][0]        \n",
            "__________________________________________________________________________________________________\n",
            "conv2_block3_1_relu (Activation (None, 56, 56, 64)   0           conv2_block3_1_bn[0][0]          \n",
            "__________________________________________________________________________________________________\n",
            "conv2_block3_2_conv (Conv2D)    (None, 56, 56, 64)   36928       conv2_block3_1_relu[0][0]        \n",
            "__________________________________________________________________________________________________\n",
            "conv2_block3_2_bn (BatchNormali (None, 56, 56, 64)   256         conv2_block3_2_conv[0][0]        \n",
            "__________________________________________________________________________________________________\n",
            "conv2_block3_2_relu (Activation (None, 56, 56, 64)   0           conv2_block3_2_bn[0][0]          \n",
            "__________________________________________________________________________________________________\n",
            "conv2_block3_3_conv (Conv2D)    (None, 56, 56, 256)  16640       conv2_block3_2_relu[0][0]        \n",
            "__________________________________________________________________________________________________\n",
            "conv2_block3_3_bn (BatchNormali (None, 56, 56, 256)  1024        conv2_block3_3_conv[0][0]        \n",
            "__________________________________________________________________________________________________\n",
            "conv2_block3_add (Add)          (None, 56, 56, 256)  0           conv2_block2_out[0][0]           \n",
            "                                                                 conv2_block3_3_bn[0][0]          \n",
            "__________________________________________________________________________________________________\n",
            "conv2_block3_out (Activation)   (None, 56, 56, 256)  0           conv2_block3_add[0][0]           \n",
            "__________________________________________________________________________________________________\n",
            "conv3_block1_1_conv (Conv2D)    (None, 28, 28, 128)  32896       conv2_block3_out[0][0]           \n",
            "__________________________________________________________________________________________________\n",
            "conv3_block1_1_bn (BatchNormali (None, 28, 28, 128)  512         conv3_block1_1_conv[0][0]        \n",
            "__________________________________________________________________________________________________\n",
            "conv3_block1_1_relu (Activation (None, 28, 28, 128)  0           conv3_block1_1_bn[0][0]          \n",
            "__________________________________________________________________________________________________\n",
            "conv3_block1_2_conv (Conv2D)    (None, 28, 28, 128)  147584      conv3_block1_1_relu[0][0]        \n",
            "__________________________________________________________________________________________________\n",
            "conv3_block1_2_bn (BatchNormali (None, 28, 28, 128)  512         conv3_block1_2_conv[0][0]        \n",
            "__________________________________________________________________________________________________\n",
            "conv3_block1_2_relu (Activation (None, 28, 28, 128)  0           conv3_block1_2_bn[0][0]          \n",
            "__________________________________________________________________________________________________\n",
            "conv3_block1_0_conv (Conv2D)    (None, 28, 28, 512)  131584      conv2_block3_out[0][0]           \n",
            "__________________________________________________________________________________________________\n",
            "conv3_block1_3_conv (Conv2D)    (None, 28, 28, 512)  66048       conv3_block1_2_relu[0][0]        \n",
            "__________________________________________________________________________________________________\n",
            "conv3_block1_0_bn (BatchNormali (None, 28, 28, 512)  2048        conv3_block1_0_conv[0][0]        \n",
            "__________________________________________________________________________________________________\n",
            "conv3_block1_3_bn (BatchNormali (None, 28, 28, 512)  2048        conv3_block1_3_conv[0][0]        \n",
            "__________________________________________________________________________________________________\n",
            "conv3_block1_add (Add)          (None, 28, 28, 512)  0           conv3_block1_0_bn[0][0]          \n",
            "                                                                 conv3_block1_3_bn[0][0]          \n",
            "__________________________________________________________________________________________________\n",
            "conv3_block1_out (Activation)   (None, 28, 28, 512)  0           conv3_block1_add[0][0]           \n",
            "__________________________________________________________________________________________________\n",
            "conv3_block2_1_conv (Conv2D)    (None, 28, 28, 128)  65664       conv3_block1_out[0][0]           \n",
            "__________________________________________________________________________________________________\n",
            "conv3_block2_1_bn (BatchNormali (None, 28, 28, 128)  512         conv3_block2_1_conv[0][0]        \n",
            "__________________________________________________________________________________________________\n",
            "conv3_block2_1_relu (Activation (None, 28, 28, 128)  0           conv3_block2_1_bn[0][0]          \n",
            "__________________________________________________________________________________________________\n",
            "conv3_block2_2_conv (Conv2D)    (None, 28, 28, 128)  147584      conv3_block2_1_relu[0][0]        \n",
            "__________________________________________________________________________________________________\n",
            "conv3_block2_2_bn (BatchNormali (None, 28, 28, 128)  512         conv3_block2_2_conv[0][0]        \n",
            "__________________________________________________________________________________________________\n",
            "conv3_block2_2_relu (Activation (None, 28, 28, 128)  0           conv3_block2_2_bn[0][0]          \n",
            "__________________________________________________________________________________________________\n",
            "conv3_block2_3_conv (Conv2D)    (None, 28, 28, 512)  66048       conv3_block2_2_relu[0][0]        \n",
            "__________________________________________________________________________________________________\n",
            "conv3_block2_3_bn (BatchNormali (None, 28, 28, 512)  2048        conv3_block2_3_conv[0][0]        \n",
            "__________________________________________________________________________________________________\n",
            "conv3_block2_add (Add)          (None, 28, 28, 512)  0           conv3_block1_out[0][0]           \n",
            "                                                                 conv3_block2_3_bn[0][0]          \n",
            "__________________________________________________________________________________________________\n",
            "conv3_block2_out (Activation)   (None, 28, 28, 512)  0           conv3_block2_add[0][0]           \n",
            "__________________________________________________________________________________________________\n",
            "conv3_block3_1_conv (Conv2D)    (None, 28, 28, 128)  65664       conv3_block2_out[0][0]           \n",
            "__________________________________________________________________________________________________\n",
            "conv3_block3_1_bn (BatchNormali (None, 28, 28, 128)  512         conv3_block3_1_conv[0][0]        \n",
            "__________________________________________________________________________________________________\n",
            "conv3_block3_1_relu (Activation (None, 28, 28, 128)  0           conv3_block3_1_bn[0][0]          \n",
            "__________________________________________________________________________________________________\n",
            "conv3_block3_2_conv (Conv2D)    (None, 28, 28, 128)  147584      conv3_block3_1_relu[0][0]        \n",
            "__________________________________________________________________________________________________\n",
            "conv3_block3_2_bn (BatchNormali (None, 28, 28, 128)  512         conv3_block3_2_conv[0][0]        \n",
            "__________________________________________________________________________________________________\n",
            "conv3_block3_2_relu (Activation (None, 28, 28, 128)  0           conv3_block3_2_bn[0][0]          \n",
            "__________________________________________________________________________________________________\n",
            "conv3_block3_3_conv (Conv2D)    (None, 28, 28, 512)  66048       conv3_block3_2_relu[0][0]        \n",
            "__________________________________________________________________________________________________\n",
            "conv3_block3_3_bn (BatchNormali (None, 28, 28, 512)  2048        conv3_block3_3_conv[0][0]        \n",
            "__________________________________________________________________________________________________\n",
            "conv3_block3_add (Add)          (None, 28, 28, 512)  0           conv3_block2_out[0][0]           \n",
            "                                                                 conv3_block3_3_bn[0][0]          \n",
            "__________________________________________________________________________________________________\n",
            "conv3_block3_out (Activation)   (None, 28, 28, 512)  0           conv3_block3_add[0][0]           \n",
            "__________________________________________________________________________________________________\n",
            "conv3_block4_1_conv (Conv2D)    (None, 28, 28, 128)  65664       conv3_block3_out[0][0]           \n",
            "__________________________________________________________________________________________________\n",
            "conv3_block4_1_bn (BatchNormali (None, 28, 28, 128)  512         conv3_block4_1_conv[0][0]        \n",
            "__________________________________________________________________________________________________\n",
            "conv3_block4_1_relu (Activation (None, 28, 28, 128)  0           conv3_block4_1_bn[0][0]          \n",
            "__________________________________________________________________________________________________\n",
            "conv3_block4_2_conv (Conv2D)    (None, 28, 28, 128)  147584      conv3_block4_1_relu[0][0]        \n",
            "__________________________________________________________________________________________________\n",
            "conv3_block4_2_bn (BatchNormali (None, 28, 28, 128)  512         conv3_block4_2_conv[0][0]        \n",
            "__________________________________________________________________________________________________\n",
            "conv3_block4_2_relu (Activation (None, 28, 28, 128)  0           conv3_block4_2_bn[0][0]          \n",
            "__________________________________________________________________________________________________\n",
            "conv3_block4_3_conv (Conv2D)    (None, 28, 28, 512)  66048       conv3_block4_2_relu[0][0]        \n",
            "__________________________________________________________________________________________________\n",
            "conv3_block4_3_bn (BatchNormali (None, 28, 28, 512)  2048        conv3_block4_3_conv[0][0]        \n",
            "__________________________________________________________________________________________________\n",
            "conv3_block4_add (Add)          (None, 28, 28, 512)  0           conv3_block3_out[0][0]           \n",
            "                                                                 conv3_block4_3_bn[0][0]          \n",
            "__________________________________________________________________________________________________\n",
            "conv3_block4_out (Activation)   (None, 28, 28, 512)  0           conv3_block4_add[0][0]           \n",
            "__________________________________________________________________________________________________\n",
            "conv4_block1_1_conv (Conv2D)    (None, 14, 14, 256)  131328      conv3_block4_out[0][0]           \n",
            "__________________________________________________________________________________________________\n",
            "conv4_block1_1_bn (BatchNormali (None, 14, 14, 256)  1024        conv4_block1_1_conv[0][0]        \n",
            "__________________________________________________________________________________________________\n",
            "conv4_block1_1_relu (Activation (None, 14, 14, 256)  0           conv4_block1_1_bn[0][0]          \n",
            "__________________________________________________________________________________________________\n",
            "conv4_block1_2_conv (Conv2D)    (None, 14, 14, 256)  590080      conv4_block1_1_relu[0][0]        \n",
            "__________________________________________________________________________________________________\n",
            "conv4_block1_2_bn (BatchNormali (None, 14, 14, 256)  1024        conv4_block1_2_conv[0][0]        \n",
            "__________________________________________________________________________________________________\n",
            "conv4_block1_2_relu (Activation (None, 14, 14, 256)  0           conv4_block1_2_bn[0][0]          \n",
            "__________________________________________________________________________________________________\n",
            "conv4_block1_0_conv (Conv2D)    (None, 14, 14, 1024) 525312      conv3_block4_out[0][0]           \n",
            "__________________________________________________________________________________________________\n",
            "conv4_block1_3_conv (Conv2D)    (None, 14, 14, 1024) 263168      conv4_block1_2_relu[0][0]        \n",
            "__________________________________________________________________________________________________\n",
            "conv4_block1_0_bn (BatchNormali (None, 14, 14, 1024) 4096        conv4_block1_0_conv[0][0]        \n",
            "__________________________________________________________________________________________________\n",
            "conv4_block1_3_bn (BatchNormali (None, 14, 14, 1024) 4096        conv4_block1_3_conv[0][0]        \n",
            "__________________________________________________________________________________________________\n",
            "conv4_block1_add (Add)          (None, 14, 14, 1024) 0           conv4_block1_0_bn[0][0]          \n",
            "                                                                 conv4_block1_3_bn[0][0]          \n",
            "__________________________________________________________________________________________________\n",
            "conv4_block1_out (Activation)   (None, 14, 14, 1024) 0           conv4_block1_add[0][0]           \n",
            "__________________________________________________________________________________________________\n",
            "conv4_block2_1_conv (Conv2D)    (None, 14, 14, 256)  262400      conv4_block1_out[0][0]           \n",
            "__________________________________________________________________________________________________\n",
            "conv4_block2_1_bn (BatchNormali (None, 14, 14, 256)  1024        conv4_block2_1_conv[0][0]        \n",
            "__________________________________________________________________________________________________\n",
            "conv4_block2_1_relu (Activation (None, 14, 14, 256)  0           conv4_block2_1_bn[0][0]          \n",
            "__________________________________________________________________________________________________\n",
            "conv4_block2_2_conv (Conv2D)    (None, 14, 14, 256)  590080      conv4_block2_1_relu[0][0]        \n",
            "__________________________________________________________________________________________________\n",
            "conv4_block2_2_bn (BatchNormali (None, 14, 14, 256)  1024        conv4_block2_2_conv[0][0]        \n",
            "__________________________________________________________________________________________________\n",
            "conv4_block2_2_relu (Activation (None, 14, 14, 256)  0           conv4_block2_2_bn[0][0]          \n",
            "__________________________________________________________________________________________________\n",
            "conv4_block2_3_conv (Conv2D)    (None, 14, 14, 1024) 263168      conv4_block2_2_relu[0][0]        \n",
            "__________________________________________________________________________________________________\n",
            "conv4_block2_3_bn (BatchNormali (None, 14, 14, 1024) 4096        conv4_block2_3_conv[0][0]        \n",
            "__________________________________________________________________________________________________\n",
            "conv4_block2_add (Add)          (None, 14, 14, 1024) 0           conv4_block1_out[0][0]           \n",
            "                                                                 conv4_block2_3_bn[0][0]          \n",
            "__________________________________________________________________________________________________\n",
            "conv4_block2_out (Activation)   (None, 14, 14, 1024) 0           conv4_block2_add[0][0]           \n",
            "__________________________________________________________________________________________________\n",
            "conv4_block3_1_conv (Conv2D)    (None, 14, 14, 256)  262400      conv4_block2_out[0][0]           \n",
            "__________________________________________________________________________________________________\n",
            "conv4_block3_1_bn (BatchNormali (None, 14, 14, 256)  1024        conv4_block3_1_conv[0][0]        \n",
            "__________________________________________________________________________________________________\n",
            "conv4_block3_1_relu (Activation (None, 14, 14, 256)  0           conv4_block3_1_bn[0][0]          \n",
            "__________________________________________________________________________________________________\n",
            "conv4_block3_2_conv (Conv2D)    (None, 14, 14, 256)  590080      conv4_block3_1_relu[0][0]        \n",
            "__________________________________________________________________________________________________\n",
            "conv4_block3_2_bn (BatchNormali (None, 14, 14, 256)  1024        conv4_block3_2_conv[0][0]        \n",
            "__________________________________________________________________________________________________\n",
            "conv4_block3_2_relu (Activation (None, 14, 14, 256)  0           conv4_block3_2_bn[0][0]          \n",
            "__________________________________________________________________________________________________\n",
            "conv4_block3_3_conv (Conv2D)    (None, 14, 14, 1024) 263168      conv4_block3_2_relu[0][0]        \n",
            "__________________________________________________________________________________________________\n",
            "conv4_block3_3_bn (BatchNormali (None, 14, 14, 1024) 4096        conv4_block3_3_conv[0][0]        \n",
            "__________________________________________________________________________________________________\n",
            "conv4_block3_add (Add)          (None, 14, 14, 1024) 0           conv4_block2_out[0][0]           \n",
            "                                                                 conv4_block3_3_bn[0][0]          \n",
            "__________________________________________________________________________________________________\n",
            "conv4_block3_out (Activation)   (None, 14, 14, 1024) 0           conv4_block3_add[0][0]           \n",
            "__________________________________________________________________________________________________\n",
            "conv4_block4_1_conv (Conv2D)    (None, 14, 14, 256)  262400      conv4_block3_out[0][0]           \n",
            "__________________________________________________________________________________________________\n",
            "conv4_block4_1_bn (BatchNormali (None, 14, 14, 256)  1024        conv4_block4_1_conv[0][0]        \n",
            "__________________________________________________________________________________________________\n",
            "conv4_block4_1_relu (Activation (None, 14, 14, 256)  0           conv4_block4_1_bn[0][0]          \n",
            "__________________________________________________________________________________________________\n",
            "conv4_block4_2_conv (Conv2D)    (None, 14, 14, 256)  590080      conv4_block4_1_relu[0][0]        \n",
            "__________________________________________________________________________________________________\n",
            "conv4_block4_2_bn (BatchNormali (None, 14, 14, 256)  1024        conv4_block4_2_conv[0][0]        \n",
            "__________________________________________________________________________________________________\n",
            "conv4_block4_2_relu (Activation (None, 14, 14, 256)  0           conv4_block4_2_bn[0][0]          \n",
            "__________________________________________________________________________________________________\n",
            "conv4_block4_3_conv (Conv2D)    (None, 14, 14, 1024) 263168      conv4_block4_2_relu[0][0]        \n",
            "__________________________________________________________________________________________________\n",
            "conv4_block4_3_bn (BatchNormali (None, 14, 14, 1024) 4096        conv4_block4_3_conv[0][0]        \n",
            "__________________________________________________________________________________________________\n",
            "conv4_block4_add (Add)          (None, 14, 14, 1024) 0           conv4_block3_out[0][0]           \n",
            "                                                                 conv4_block4_3_bn[0][0]          \n",
            "__________________________________________________________________________________________________\n",
            "conv4_block4_out (Activation)   (None, 14, 14, 1024) 0           conv4_block4_add[0][0]           \n",
            "__________________________________________________________________________________________________\n",
            "conv4_block5_1_conv (Conv2D)    (None, 14, 14, 256)  262400      conv4_block4_out[0][0]           \n",
            "__________________________________________________________________________________________________\n",
            "conv4_block5_1_bn (BatchNormali (None, 14, 14, 256)  1024        conv4_block5_1_conv[0][0]        \n",
            "__________________________________________________________________________________________________\n",
            "conv4_block5_1_relu (Activation (None, 14, 14, 256)  0           conv4_block5_1_bn[0][0]          \n",
            "__________________________________________________________________________________________________\n",
            "conv4_block5_2_conv (Conv2D)    (None, 14, 14, 256)  590080      conv4_block5_1_relu[0][0]        \n",
            "__________________________________________________________________________________________________\n",
            "conv4_block5_2_bn (BatchNormali (None, 14, 14, 256)  1024        conv4_block5_2_conv[0][0]        \n",
            "__________________________________________________________________________________________________\n",
            "conv4_block5_2_relu (Activation (None, 14, 14, 256)  0           conv4_block5_2_bn[0][0]          \n",
            "__________________________________________________________________________________________________\n",
            "conv4_block5_3_conv (Conv2D)    (None, 14, 14, 1024) 263168      conv4_block5_2_relu[0][0]        \n",
            "__________________________________________________________________________________________________\n",
            "conv4_block5_3_bn (BatchNormali (None, 14, 14, 1024) 4096        conv4_block5_3_conv[0][0]        \n",
            "__________________________________________________________________________________________________\n",
            "conv4_block5_add (Add)          (None, 14, 14, 1024) 0           conv4_block4_out[0][0]           \n",
            "                                                                 conv4_block5_3_bn[0][0]          \n",
            "__________________________________________________________________________________________________\n",
            "conv4_block5_out (Activation)   (None, 14, 14, 1024) 0           conv4_block5_add[0][0]           \n",
            "__________________________________________________________________________________________________\n",
            "conv4_block6_1_conv (Conv2D)    (None, 14, 14, 256)  262400      conv4_block5_out[0][0]           \n",
            "__________________________________________________________________________________________________\n",
            "conv4_block6_1_bn (BatchNormali (None, 14, 14, 256)  1024        conv4_block6_1_conv[0][0]        \n",
            "__________________________________________________________________________________________________\n",
            "conv4_block6_1_relu (Activation (None, 14, 14, 256)  0           conv4_block6_1_bn[0][0]          \n",
            "__________________________________________________________________________________________________\n",
            "conv4_block6_2_conv (Conv2D)    (None, 14, 14, 256)  590080      conv4_block6_1_relu[0][0]        \n",
            "__________________________________________________________________________________________________\n",
            "conv4_block6_2_bn (BatchNormali (None, 14, 14, 256)  1024        conv4_block6_2_conv[0][0]        \n",
            "__________________________________________________________________________________________________\n",
            "conv4_block6_2_relu (Activation (None, 14, 14, 256)  0           conv4_block6_2_bn[0][0]          \n",
            "__________________________________________________________________________________________________\n",
            "conv4_block6_3_conv (Conv2D)    (None, 14, 14, 1024) 263168      conv4_block6_2_relu[0][0]        \n",
            "__________________________________________________________________________________________________\n",
            "conv4_block6_3_bn (BatchNormali (None, 14, 14, 1024) 4096        conv4_block6_3_conv[0][0]        \n",
            "__________________________________________________________________________________________________\n",
            "conv4_block6_add (Add)          (None, 14, 14, 1024) 0           conv4_block5_out[0][0]           \n",
            "                                                                 conv4_block6_3_bn[0][0]          \n",
            "__________________________________________________________________________________________________\n",
            "conv4_block6_out (Activation)   (None, 14, 14, 1024) 0           conv4_block6_add[0][0]           \n",
            "__________________________________________________________________________________________________\n",
            "conv5_block1_1_conv (Conv2D)    (None, 7, 7, 512)    524800      conv4_block6_out[0][0]           \n",
            "__________________________________________________________________________________________________\n",
            "conv5_block1_1_bn (BatchNormali (None, 7, 7, 512)    2048        conv5_block1_1_conv[0][0]        \n",
            "__________________________________________________________________________________________________\n",
            "conv5_block1_1_relu (Activation (None, 7, 7, 512)    0           conv5_block1_1_bn[0][0]          \n",
            "__________________________________________________________________________________________________\n",
            "conv5_block1_2_conv (Conv2D)    (None, 7, 7, 512)    2359808     conv5_block1_1_relu[0][0]        \n",
            "__________________________________________________________________________________________________\n",
            "conv5_block1_2_bn (BatchNormali (None, 7, 7, 512)    2048        conv5_block1_2_conv[0][0]        \n",
            "__________________________________________________________________________________________________\n",
            "conv5_block1_2_relu (Activation (None, 7, 7, 512)    0           conv5_block1_2_bn[0][0]          \n",
            "__________________________________________________________________________________________________\n",
            "conv5_block1_0_conv (Conv2D)    (None, 7, 7, 2048)   2099200     conv4_block6_out[0][0]           \n",
            "__________________________________________________________________________________________________\n",
            "conv5_block1_3_conv (Conv2D)    (None, 7, 7, 2048)   1050624     conv5_block1_2_relu[0][0]        \n",
            "__________________________________________________________________________________________________\n",
            "conv5_block1_0_bn (BatchNormali (None, 7, 7, 2048)   8192        conv5_block1_0_conv[0][0]        \n",
            "__________________________________________________________________________________________________\n",
            "conv5_block1_3_bn (BatchNormali (None, 7, 7, 2048)   8192        conv5_block1_3_conv[0][0]        \n",
            "__________________________________________________________________________________________________\n",
            "conv5_block1_add (Add)          (None, 7, 7, 2048)   0           conv5_block1_0_bn[0][0]          \n",
            "                                                                 conv5_block1_3_bn[0][0]          \n",
            "__________________________________________________________________________________________________\n",
            "conv5_block1_out (Activation)   (None, 7, 7, 2048)   0           conv5_block1_add[0][0]           \n",
            "__________________________________________________________________________________________________\n",
            "conv5_block2_1_conv (Conv2D)    (None, 7, 7, 512)    1049088     conv5_block1_out[0][0]           \n",
            "__________________________________________________________________________________________________\n",
            "conv5_block2_1_bn (BatchNormali (None, 7, 7, 512)    2048        conv5_block2_1_conv[0][0]        \n",
            "__________________________________________________________________________________________________\n",
            "conv5_block2_1_relu (Activation (None, 7, 7, 512)    0           conv5_block2_1_bn[0][0]          \n",
            "__________________________________________________________________________________________________\n",
            "conv5_block2_2_conv (Conv2D)    (None, 7, 7, 512)    2359808     conv5_block2_1_relu[0][0]        \n",
            "__________________________________________________________________________________________________\n",
            "conv5_block2_2_bn (BatchNormali (None, 7, 7, 512)    2048        conv5_block2_2_conv[0][0]        \n",
            "__________________________________________________________________________________________________\n",
            "conv5_block2_2_relu (Activation (None, 7, 7, 512)    0           conv5_block2_2_bn[0][0]          \n",
            "__________________________________________________________________________________________________\n",
            "conv5_block2_3_conv (Conv2D)    (None, 7, 7, 2048)   1050624     conv5_block2_2_relu[0][0]        \n",
            "__________________________________________________________________________________________________\n",
            "conv5_block2_3_bn (BatchNormali (None, 7, 7, 2048)   8192        conv5_block2_3_conv[0][0]        \n",
            "__________________________________________________________________________________________________\n",
            "conv5_block2_add (Add)          (None, 7, 7, 2048)   0           conv5_block1_out[0][0]           \n",
            "                                                                 conv5_block2_3_bn[0][0]          \n",
            "__________________________________________________________________________________________________\n",
            "conv5_block2_out (Activation)   (None, 7, 7, 2048)   0           conv5_block2_add[0][0]           \n",
            "__________________________________________________________________________________________________\n",
            "conv5_block3_1_conv (Conv2D)    (None, 7, 7, 512)    1049088     conv5_block2_out[0][0]           \n",
            "__________________________________________________________________________________________________\n",
            "conv5_block3_1_bn (BatchNormali (None, 7, 7, 512)    2048        conv5_block3_1_conv[0][0]        \n",
            "__________________________________________________________________________________________________\n",
            "conv5_block3_1_relu (Activation (None, 7, 7, 512)    0           conv5_block3_1_bn[0][0]          \n",
            "__________________________________________________________________________________________________\n",
            "conv5_block3_2_conv (Conv2D)    (None, 7, 7, 512)    2359808     conv5_block3_1_relu[0][0]        \n",
            "__________________________________________________________________________________________________\n",
            "conv5_block3_2_bn (BatchNormali (None, 7, 7, 512)    2048        conv5_block3_2_conv[0][0]        \n",
            "__________________________________________________________________________________________________\n",
            "conv5_block3_2_relu (Activation (None, 7, 7, 512)    0           conv5_block3_2_bn[0][0]          \n",
            "__________________________________________________________________________________________________\n",
            "conv5_block3_3_conv (Conv2D)    (None, 7, 7, 2048)   1050624     conv5_block3_2_relu[0][0]        \n",
            "__________________________________________________________________________________________________\n",
            "conv5_block3_3_bn (BatchNormali (None, 7, 7, 2048)   8192        conv5_block3_3_conv[0][0]        \n",
            "__________________________________________________________________________________________________\n",
            "conv5_block3_add (Add)          (None, 7, 7, 2048)   0           conv5_block2_out[0][0]           \n",
            "                                                                 conv5_block3_3_bn[0][0]          \n",
            "__________________________________________________________________________________________________\n",
            "conv5_block3_out (Activation)   (None, 7, 7, 2048)   0           conv5_block3_add[0][0]           \n",
            "__________________________________________________________________________________________________\n",
            "flatten (Flatten)               (None, 100352)       0           conv5_block3_out[0][0]           \n",
            "__________________________________________________________________________________________________\n",
            "dense (Dense)                   (None, 3)            301059      flatten[0][0]                    \n",
            "==================================================================================================\n",
            "Total params: 23,888,771\n",
            "Trainable params: 301,059\n",
            "Non-trainable params: 23,587,712\n",
            "__________________________________________________________________________________________________\n"
          ],
          "name": "stdout"
        }
      ]
    },
    {
      "cell_type": "code",
      "metadata": {
        "id": "CuB8AQNOz-jI"
      },
      "source": [
        "# tell the model what cost and optimization method to use\n",
        "model.compile(\n",
        "  loss='categorical_crossentropy',\n",
        "  optimizer='adam',\n",
        "  metrics=['accuracy']\n",
        ")"
      ],
      "execution_count": 16,
      "outputs": []
    },
    {
      "cell_type": "code",
      "metadata": {
        "id": "JUPfkaY9z-jJ"
      },
      "source": [
        "# Use the Image Data Generator to import the images from the dataset\n",
        "from tensorflow.keras.preprocessing.image import ImageDataGenerator\n",
        "\n",
        "train_datagen = ImageDataGenerator(rescale = 1./255,\n",
        "                                   shear_range = 0.2,\n",
        "                                   zoom_range = 0.2,\n",
        "                                   horizontal_flip = True)\n",
        "\n",
        "test_datagen = ImageDataGenerator(rescale = 1./255)"
      ],
      "execution_count": 17,
      "outputs": []
    },
    {
      "cell_type": "code",
      "metadata": {
        "colab": {
          "base_uri": "https://localhost:8080/"
        },
        "id": "01mMR5L3z-jJ",
        "outputId": "d878d88c-16bf-4022-f303-100109fdd584"
      },
      "source": [
        "# Make sure you provide the same target size as initialied for the image size\n",
        "training_set = train_datagen.flow_from_directory('/content/Datasets/Train',\n",
        "                                                 target_size = (224, 224),\n",
        "                                                 batch_size = 32,\n",
        "                                                 class_mode = 'categorical')"
      ],
      "execution_count": 18,
      "outputs": [
        {
          "output_type": "stream",
          "text": [
            "Found 64 images belonging to 3 classes.\n"
          ],
          "name": "stdout"
        }
      ]
    },
    {
      "cell_type": "code",
      "metadata": {
        "colab": {
          "base_uri": "https://localhost:8080/"
        },
        "id": "TwTYyIPTz-jK",
        "outputId": "b88757a2-6ad2-4833-a17c-359f02952bd1"
      },
      "source": [
        "test_set = test_datagen.flow_from_directory('/content/Datasets/Test',\n",
        "                                            target_size = (224, 224),\n",
        "                                            batch_size = 32,\n",
        "                                            class_mode = 'categorical')"
      ],
      "execution_count": 19,
      "outputs": [
        {
          "output_type": "stream",
          "text": [
            "Found 58 images belonging to 3 classes.\n"
          ],
          "name": "stdout"
        }
      ]
    },
    {
      "cell_type": "code",
      "metadata": {
        "colab": {
          "base_uri": "https://localhost:8080/"
        },
        "id": "4LG9rSDTz-jK",
        "outputId": "bf6a8f54-f7f8-40dd-fa9e-2e9359bce8b7"
      },
      "source": [
        "# fit the model\n",
        "# Run the cell. It will take some time to execute\n",
        "r = model.fit(\n",
        "  training_set,\n",
        "  validation_data=test_set,\n",
        "  epochs=50,\n",
        "  steps_per_epoch=len(training_set),\n",
        "  validation_steps=len(test_set)\n",
        ")"
      ],
      "execution_count": 21,
      "outputs": [
        {
          "output_type": "stream",
          "text": [
            "Epoch 1/50\n",
            "2/2 [==============================] - 18s 13s/step - loss: 13.1268 - accuracy: 0.3906 - val_loss: 4.8323 - val_accuracy: 0.3276\n",
            "Epoch 2/50\n",
            "2/2 [==============================] - 18s 13s/step - loss: 7.3825 - accuracy: 0.2812 - val_loss: 4.4714 - val_accuracy: 0.5172\n",
            "Epoch 3/50\n",
            "2/2 [==============================] - 18s 13s/step - loss: 5.9450 - accuracy: 0.2188 - val_loss: 8.2710 - val_accuracy: 0.1552\n",
            "Epoch 4/50\n",
            "2/2 [==============================] - 18s 13s/step - loss: 6.2516 - accuracy: 0.3125 - val_loss: 2.9919 - val_accuracy: 0.1552\n",
            "Epoch 5/50\n",
            "2/2 [==============================] - 18s 13s/step - loss: 2.2599 - accuracy: 0.3750 - val_loss: 2.4987 - val_accuracy: 0.3793\n",
            "Epoch 6/50\n",
            "2/2 [==============================] - 18s 13s/step - loss: 3.1122 - accuracy: 0.4844 - val_loss: 2.9062 - val_accuracy: 0.5862\n",
            "Epoch 7/50\n",
            "2/2 [==============================] - 18s 13s/step - loss: 4.1969 - accuracy: 0.4688 - val_loss: 2.2246 - val_accuracy: 0.5862\n",
            "Epoch 8/50\n",
            "2/2 [==============================] - 18s 13s/step - loss: 2.1154 - accuracy: 0.4688 - val_loss: 1.9482 - val_accuracy: 0.3448\n",
            "Epoch 9/50\n",
            "2/2 [==============================] - 18s 13s/step - loss: 1.6419 - accuracy: 0.4844 - val_loss: 4.3199 - val_accuracy: 0.1552\n",
            "Epoch 10/50\n",
            "2/2 [==============================] - 18s 13s/step - loss: 2.5601 - accuracy: 0.4375 - val_loss: 1.6768 - val_accuracy: 0.3621\n",
            "Epoch 11/50\n",
            "2/2 [==============================] - 18s 13s/step - loss: 0.8547 - accuracy: 0.6719 - val_loss: 1.5475 - val_accuracy: 0.5862\n",
            "Epoch 12/50\n",
            "2/2 [==============================] - 18s 13s/step - loss: 1.7418 - accuracy: 0.5469 - val_loss: 1.6821 - val_accuracy: 0.5862\n",
            "Epoch 13/50\n",
            "2/2 [==============================] - 18s 13s/step - loss: 1.4794 - accuracy: 0.5625 - val_loss: 1.3010 - val_accuracy: 0.5345\n",
            "Epoch 14/50\n",
            "2/2 [==============================] - 18s 13s/step - loss: 0.8282 - accuracy: 0.6406 - val_loss: 1.9429 - val_accuracy: 0.3103\n",
            "Epoch 15/50\n",
            "2/2 [==============================] - 18s 13s/step - loss: 1.2353 - accuracy: 0.4844 - val_loss: 0.9978 - val_accuracy: 0.6034\n",
            "Epoch 16/50\n",
            "2/2 [==============================] - 18s 13s/step - loss: 0.5165 - accuracy: 0.7969 - val_loss: 1.2058 - val_accuracy: 0.6034\n",
            "Epoch 17/50\n",
            "2/2 [==============================] - 18s 13s/step - loss: 0.9454 - accuracy: 0.6406 - val_loss: 1.2410 - val_accuracy: 0.6379\n",
            "Epoch 18/50\n",
            "2/2 [==============================] - 18s 13s/step - loss: 0.5345 - accuracy: 0.8125 - val_loss: 0.9174 - val_accuracy: 0.5690\n",
            "Epoch 19/50\n",
            "2/2 [==============================] - 18s 13s/step - loss: 0.6153 - accuracy: 0.7500 - val_loss: 1.0155 - val_accuracy: 0.5862\n",
            "Epoch 20/50\n",
            "2/2 [==============================] - 18s 13s/step - loss: 0.5171 - accuracy: 0.7969 - val_loss: 1.0225 - val_accuracy: 0.6207\n",
            "Epoch 21/50\n",
            "2/2 [==============================] - 18s 13s/step - loss: 0.4331 - accuracy: 0.8125 - val_loss: 0.9456 - val_accuracy: 0.6897\n",
            "Epoch 22/50\n",
            "2/2 [==============================] - 18s 13s/step - loss: 0.4997 - accuracy: 0.7656 - val_loss: 0.8942 - val_accuracy: 0.6897\n",
            "Epoch 23/50\n",
            "2/2 [==============================] - 18s 13s/step - loss: 0.4000 - accuracy: 0.8281 - val_loss: 0.9811 - val_accuracy: 0.6552\n",
            "Epoch 24/50\n",
            "2/2 [==============================] - 18s 13s/step - loss: 0.5305 - accuracy: 0.7656 - val_loss: 0.9338 - val_accuracy: 0.6897\n",
            "Epoch 25/50\n",
            "2/2 [==============================] - 18s 13s/step - loss: 0.3426 - accuracy: 0.8438 - val_loss: 0.9120 - val_accuracy: 0.7414\n",
            "Epoch 26/50\n",
            "2/2 [==============================] - 18s 13s/step - loss: 0.4340 - accuracy: 0.7969 - val_loss: 0.9165 - val_accuracy: 0.7414\n",
            "Epoch 27/50\n",
            "2/2 [==============================] - 19s 13s/step - loss: 0.3788 - accuracy: 0.8438 - val_loss: 0.9242 - val_accuracy: 0.6379\n",
            "Epoch 28/50\n",
            "2/2 [==============================] - 18s 13s/step - loss: 0.3646 - accuracy: 0.8281 - val_loss: 0.9535 - val_accuracy: 0.6207\n",
            "Epoch 29/50\n",
            "2/2 [==============================] - 18s 13s/step - loss: 0.3662 - accuracy: 0.8594 - val_loss: 0.8172 - val_accuracy: 0.6897\n",
            "Epoch 30/50\n",
            "2/2 [==============================] - 18s 13s/step - loss: 0.3214 - accuracy: 0.8906 - val_loss: 0.8967 - val_accuracy: 0.7069\n",
            "Epoch 31/50\n",
            "2/2 [==============================] - 19s 13s/step - loss: 0.4017 - accuracy: 0.8438 - val_loss: 0.8498 - val_accuracy: 0.7069\n",
            "Epoch 32/50\n",
            "2/2 [==============================] - 19s 13s/step - loss: 0.3001 - accuracy: 0.9219 - val_loss: 0.8660 - val_accuracy: 0.7241\n",
            "Epoch 33/50\n",
            "2/2 [==============================] - 18s 13s/step - loss: 0.3073 - accuracy: 0.8906 - val_loss: 0.8553 - val_accuracy: 0.7069\n",
            "Epoch 34/50\n",
            "2/2 [==============================] - 18s 13s/step - loss: 0.2515 - accuracy: 0.9375 - val_loss: 0.8577 - val_accuracy: 0.7241\n",
            "Epoch 35/50\n",
            "2/2 [==============================] - 18s 13s/step - loss: 0.2916 - accuracy: 0.9219 - val_loss: 0.8348 - val_accuracy: 0.7414\n",
            "Epoch 36/50\n",
            "2/2 [==============================] - 18s 13s/step - loss: 0.2758 - accuracy: 0.9062 - val_loss: 0.8665 - val_accuracy: 0.6724\n",
            "Epoch 37/50\n",
            "2/2 [==============================] - 19s 13s/step - loss: 0.2269 - accuracy: 0.9219 - val_loss: 0.9415 - val_accuracy: 0.6552\n",
            "Epoch 38/50\n",
            "2/2 [==============================] - 18s 13s/step - loss: 0.2477 - accuracy: 0.9375 - val_loss: 0.8504 - val_accuracy: 0.7414\n",
            "Epoch 39/50\n",
            "2/2 [==============================] - 18s 13s/step - loss: 0.3295 - accuracy: 0.8594 - val_loss: 0.8314 - val_accuracy: 0.7586\n",
            "Epoch 40/50\n",
            "2/2 [==============================] - 18s 13s/step - loss: 0.2440 - accuracy: 0.9688 - val_loss: 1.0488 - val_accuracy: 0.5690\n",
            "Epoch 41/50\n",
            "2/2 [==============================] - 18s 13s/step - loss: 0.2740 - accuracy: 0.9062 - val_loss: 0.8541 - val_accuracy: 0.7069\n",
            "Epoch 42/50\n",
            "2/2 [==============================] - 18s 13s/step - loss: 0.2310 - accuracy: 0.9375 - val_loss: 0.8353 - val_accuracy: 0.7241\n",
            "Epoch 43/50\n",
            "2/2 [==============================] - 18s 13s/step - loss: 0.2268 - accuracy: 0.9375 - val_loss: 0.9161 - val_accuracy: 0.6897\n",
            "Epoch 44/50\n",
            "2/2 [==============================] - 18s 13s/step - loss: 0.2734 - accuracy: 0.9219 - val_loss: 0.8933 - val_accuracy: 0.7069\n",
            "Epoch 45/50\n",
            "2/2 [==============================] - 19s 13s/step - loss: 0.2273 - accuracy: 0.9688 - val_loss: 0.8607 - val_accuracy: 0.6897\n",
            "Epoch 46/50\n",
            "2/2 [==============================] - 19s 13s/step - loss: 0.2757 - accuracy: 0.8750 - val_loss: 0.9071 - val_accuracy: 0.6897\n",
            "Epoch 47/50\n",
            "2/2 [==============================] - 18s 13s/step - loss: 0.2643 - accuracy: 0.8906 - val_loss: 0.9120 - val_accuracy: 0.7069\n",
            "Epoch 48/50\n",
            "2/2 [==============================] - 19s 13s/step - loss: 0.2189 - accuracy: 0.9688 - val_loss: 0.8605 - val_accuracy: 0.7241\n",
            "Epoch 49/50\n",
            "2/2 [==============================] - 18s 13s/step - loss: 0.2815 - accuracy: 0.8750 - val_loss: 0.8868 - val_accuracy: 0.6897\n",
            "Epoch 50/50\n",
            "2/2 [==============================] - 18s 13s/step - loss: 0.2533 - accuracy: 0.8906 - val_loss: 0.9359 - val_accuracy: 0.6552\n"
          ],
          "name": "stdout"
        }
      ]
    },
    {
      "cell_type": "code",
      "metadata": {
        "colab": {
          "base_uri": "https://localhost:8080/",
          "height": 515
        },
        "id": "JvL9uJlbz-jL",
        "outputId": "ff481caa-f5aa-41e5-8493-6fa8f3b5751f"
      },
      "source": [
        "# plot the loss\n",
        "plt.plot(r.history['loss'], label='train loss')\n",
        "plt.plot(r.history['val_loss'], label='val loss')\n",
        "plt.legend()\n",
        "plt.show()\n",
        "\n",
        "# plot the accuracy\n",
        "plt.plot(r.history['accuracy'], label='train acc')\n",
        "plt.plot(r.history['val_accuracy'], label='val acc')\n",
        "plt.legend()\n",
        "plt.show()"
      ],
      "execution_count": 23,
      "outputs": [
        {
          "output_type": "display_data",
          "data": {
            "image/png": "[encoded data removed]",
            "text/plain": [
              "<Figure size 432x288 with 1 Axes>"
            ]
          },
          "metadata": {
            "tags": [],
            "needs_background": "light"
          }
        },
        {
          "output_type": "display_data",
          "data": {
            "image/png": "[encoded data removed]",
            "text/plain": [
              "<Figure size 432x288 with 1 Axes>"
            ]
          },
          "metadata": {
            "tags": [],
            "needs_background": "light"
          }
        }
      ]
    },
    {
      "cell_type": "code",
      "metadata": {
        "id": "F3R-MDvgz-jL"
      },
      "source": [
        "# save it as a h5 file\n",
        "from tensorflow.keras.models import load_model\n",
        "model.save('model_resnet50.h5')"
      ],
      "execution_count": 24,
      "outputs": []
    },
    {
      "cell_type": "code",
      "metadata": {
        "id": "ctoHRS8Oz-jM"
      },
      "source": [
        "y_pred = model.predict(test_set)"
      ],
      "execution_count": 25,
      "outputs": []
    },
    {
      "cell_type": "code",
      "metadata": {
        "colab": {
          "base_uri": "https://localhost:8080/"
        },
        "id": "BdaloNWlz-jM",
        "outputId": "1dc97bf7-0c5d-463c-fdaf-54147af29ac8"
      },
      "source": [
        "y_pred"
      ],
      "execution_count": 26,
      "outputs": [
        {
          "output_type": "execute_result",
          "data": {
            "text/plain": [
              "array([[2.90960316e-02, 5.02330840e-01, 4.68573153e-01],\n",
              "       [1.25701159e-01, 5.10499418e-01, 3.63799334e-01],\n",
              "       [1.56818714e-06, 3.63853062e-04, 9.99634624e-01],\n",
              "       [4.55819583e-03, 1.82952359e-01, 8.12489450e-01],\n",
              "       [3.95091362e-02, 3.29303414e-01, 6.31187439e-01],\n",
              "       [8.84966850e-01, 3.61836664e-02, 7.88495317e-02],\n",
              "       [6.48455262e-01, 1.97533384e-01, 1.54011339e-01],\n",
              "       [9.51208591e-01, 1.33993011e-02, 3.53921056e-02],\n",
              "       [1.50914993e-02, 3.79074574e-01, 6.05833948e-01],\n",
              "       [7.28039304e-04, 9.04307604e-01, 9.49643701e-02],\n",
              "       [2.97816902e-01, 3.00056249e-01, 4.02126849e-01],\n",
              "       [6.03787834e-03, 3.30282092e-01, 6.63680077e-01],\n",
              "       [1.22733228e-03, 9.80078101e-01, 1.86945349e-02],\n",
              "       [5.23324348e-02, 9.10283387e-01, 3.73842381e-02],\n",
              "       [1.18879592e-02, 8.33460391e-01, 1.54651642e-01],\n",
              "       [2.03492236e-03, 9.62717354e-01, 3.52476984e-02],\n",
              "       [3.94917056e-02, 7.86994211e-03, 9.52638268e-01],\n",
              "       [1.31339386e-01, 3.85719001e-01, 4.82941687e-01],\n",
              "       [1.02286022e-02, 3.03287827e-03, 9.86738563e-01],\n",
              "       [4.52110879e-02, 3.20922554e-01, 6.33866370e-01],\n",
              "       [9.16124061e-02, 1.62016094e-01, 7.46371508e-01],\n",
              "       [5.18731475e-01, 1.19718146e-02, 4.69296753e-01],\n",
              "       [2.75816815e-03, 1.62440278e-02, 9.80997741e-01],\n",
              "       [1.52976979e-02, 3.53980869e-01, 6.30721450e-01],\n",
              "       [2.42002085e-01, 3.59224588e-01, 3.98773342e-01],\n",
              "       [4.11579348e-02, 5.67753673e-01, 3.91088367e-01],\n",
              "       [1.73344128e-02, 6.05941951e-01, 3.76723677e-01],\n",
              "       [2.84244530e-02, 2.26414710e-01, 7.45160818e-01],\n",
              "       [1.82934348e-02, 9.75370228e-01, 6.33640122e-03],\n",
              "       [2.00739540e-02, 8.79100204e-01, 1.00825816e-01],\n",
              "       [1.06141092e-02, 9.46782529e-01, 4.26034033e-02],\n",
              "       [3.98803176e-03, 8.92941713e-01, 1.03070199e-01],\n",
              "       [2.47253820e-01, 3.40341404e-02, 7.18711972e-01],\n",
              "       [2.54354700e-02, 1.79975305e-03, 9.72764790e-01],\n",
              "       [1.92099321e-03, 8.70870173e-01, 1.27208784e-01],\n",
              "       [1.86889723e-01, 2.98716843e-01, 5.14393449e-01],\n",
              "       [7.49308541e-02, 2.18625516e-01, 7.06443608e-01],\n",
              "       [1.18969316e-02, 1.08134642e-01, 8.79968464e-01],\n",
              "       [3.00792921e-02, 1.78437710e-01, 7.91483045e-01],\n",
              "       [1.86238773e-02, 3.20576340e-01, 6.60799801e-01],\n",
              "       [1.62496548e-02, 1.55163259e-04, 9.83595133e-01],\n",
              "       [7.06792921e-02, 7.03739002e-02, 8.58946741e-01],\n",
              "       [2.80908588e-02, 4.62724976e-02, 9.25636649e-01],\n",
              "       [7.93682575e-01, 1.96844608e-01, 9.47291870e-03],\n",
              "       [2.46707454e-01, 6.64549232e-01, 8.87433961e-02],\n",
              "       [8.42672288e-01, 5.68035915e-02, 1.00524098e-01],\n",
              "       [1.90572277e-01, 4.51310247e-01, 3.58117551e-01],\n",
              "       [5.75008335e-06, 1.18784796e-04, 9.99875426e-01],\n",
              "       [3.46615240e-02, 3.77238929e-01, 5.88099539e-01],\n",
              "       [2.80139893e-02, 9.50676389e-03, 9.62479234e-01],\n",
              "       [2.31598485e-02, 5.03234267e-01, 4.73605841e-01],\n",
              "       [4.09170598e-01, 1.55307040e-01, 4.35522437e-01],\n",
              "       [1.24331908e-02, 8.02901864e-01, 1.84664950e-01],\n",
              "       [7.07808556e-03, 1.59687246e-03, 9.91325021e-01],\n",
              "       [5.30418269e-02, 7.29086280e-01, 2.17871904e-01],\n",
              "       [7.08073261e-04, 6.44263983e-01, 3.55027974e-01],\n",
              "       [3.28388475e-02, 7.92816401e-01, 1.74344763e-01],\n",
              "       [1.20936902e-02, 1.44725278e-01, 8.43181014e-01]], dtype=float32)"
            ]
          },
          "metadata": {
            "tags": []
          },
          "execution_count": 26
        }
      ]
    },
    {
      "cell_type": "code",
      "metadata": {
        "id": "zk7MYPaJz-jM"
      },
      "source": [
        "import numpy as np\n",
        "y_pred = np.argmax(y_pred, axis=1)"
      ],
      "execution_count": 27,
      "outputs": []
    },
    {
      "cell_type": "code",
      "metadata": {
        "colab": {
          "base_uri": "https://localhost:8080/"
        },
        "id": "4h56Qa8Jz-jN",
        "outputId": "63c79bcf-3b3d-433f-dd97-00463202009f"
      },
      "source": [
        "y_pred"
      ],
      "execution_count": 28,
      "outputs": [
        {
          "output_type": "execute_result",
          "data": {
            "text/plain": [
              "array([1, 1, 2, 2, 2, 0, 0, 0, 2, 1, 2, 2, 1, 1, 1, 1, 2, 2, 2, 2, 2, 0,\n",
              "       2, 2, 2, 1, 1, 2, 1, 1, 1, 1, 2, 2, 1, 2, 2, 2, 2, 2, 2, 2, 2, 0,\n",
              "       1, 0, 1, 2, 2, 2, 1, 2, 1, 2, 1, 1, 1, 2])"
            ]
          },
          "metadata": {
            "tags": []
          },
          "execution_count": 28
        }
      ]
    },
    {
      "cell_type": "code",
      "metadata": {
        "id": "PRJlIHsxz-jN"
      },
      "source": [
        "from tensorflow.keras.models import load_model\n",
        "from tensorflow.keras.preprocessing import image"
      ],
      "execution_count": 29,
      "outputs": []
    },
    {
      "cell_type": "code",
      "metadata": {
        "id": "eFIFN8T0z-jO"
      },
      "source": [
        "model=load_model('model_resnet50.h5')"
      ],
      "execution_count": 30,
      "outputs": []
    },
    {
      "cell_type": "code",
      "metadata": {
        "colab": {
          "base_uri": "https://localhost:8080/",
          "height": 275
        },
        "id": "oPUTW_bJ9KM7",
        "outputId": "3e6575a2-0c8a-4127-834f-63d66d4e7311"
      },
      "source": [
        "from matplotlib.pyplot import imshow\r\n",
        "import cv2\r\n",
        "from google.colab.patches import cv2_imshow\r\n",
        "from skimage import io\r\n",
        "\r\n",
        "input_img= \"https://static.designboom.com/wp-content/uploads/2020/11/lamborghini-huracan-STO-designboom-002.jpg\"\r\n",
        "input_img = io.imread(input_img)\r\n",
        "img = cv2.resize(input_img, dsize=(224, 224), interpolation=cv2.INTER_CUBIC)\r\n",
        "print('Input Dimensions - Image : ',img.shape)\r\n",
        "cv2_imshow(img)"
      ],
      "execution_count": 48,
      "outputs": [
        {
          "output_type": "stream",
          "text": [
            "Input Dimensions - Image :  (224, 224, 3)\n"
          ],
          "name": "stdout"
        },
        {
          "output_type": "display_data",
          "data": {
            "image/png": "[encoded data removed]",
            "text/plain": [
              "<PIL.Image.Image image mode=RGB size=224x224 at 0x7FD111B42E48>"
            ]
          },
          "metadata": {
            "tags": []
          }
        },
        {
          "output_type": "execute_result",
          "data": {
            "text/plain": [
              "(224, 224, 3)"
            ]
          },
          "metadata": {
            "tags": []
          },
          "execution_count": 48
        }
      ]
    },
    {
      "cell_type": "code",
      "metadata": {
        "colab": {
          "base_uri": "https://localhost:8080/"
        },
        "id": "lp_v4E10z-jS",
        "outputId": "dcf754c9-7f60-425c-e2bd-c788f14d7102"
      },
      "source": [
        "img.shape"
      ],
      "execution_count": 49,
      "outputs": [
        {
          "output_type": "execute_result",
          "data": {
            "text/plain": [
              "(224, 224, 3)"
            ]
          },
          "metadata": {
            "tags": []
          },
          "execution_count": 49
        }
      ]
    },
    {
      "cell_type": "code",
      "metadata": {
        "id": "k6SCZ0ytz-jS"
      },
      "source": [
        "x=img/255"
      ],
      "execution_count": 50,
      "outputs": []
    },
    {
      "cell_type": "code",
      "metadata": {
        "colab": {
          "base_uri": "https://localhost:8080/"
        },
        "id": "tYbCX1ztz-jS",
        "outputId": "7d5ca10a-53e2-4a29-e679-1b32bc4c2606"
      },
      "source": [
        "x=np.expand_dims(x,axis=0)\n",
        "img_data=preprocess_input(x)\n",
        "img_data.shape"
      ],
      "execution_count": 51,
      "outputs": [
        {
          "output_type": "execute_result",
          "data": {
            "text/plain": [
              "(1, 224, 224, 3)"
            ]
          },
          "metadata": {
            "tags": []
          },
          "execution_count": 51
        }
      ]
    },
    {
      "cell_type": "code",
      "metadata": {
        "colab": {
          "base_uri": "https://localhost:8080/"
        },
        "id": "q7qTWtMcz-jT",
        "outputId": "9c6d243b-7584-4aa6-e25a-02dd984d73db"
      },
      "source": [
        "model.predict(img_data)"
      ],
      "execution_count": 52,
      "outputs": [
        {
          "output_type": "execute_result",
          "data": {
            "text/plain": [
              "array([[0.00547201, 0.00365425, 0.9908737 ]], dtype=float32)"
            ]
          },
          "metadata": {
            "tags": []
          },
          "execution_count": 52
        }
      ]
    },
    {
      "cell_type": "code",
      "metadata": {
        "colab": {
          "base_uri": "https://localhost:8080/"
        },
        "id": "3DcuI6mFz-jT",
        "outputId": "9941b845-27e5-4058-d6f2-81671cd8ca66"
      },
      "source": [
        "a=np.argmax(model.predict(img_data), axis=1)\r\n",
        "a"
      ],
      "execution_count": 55,
      "outputs": [
        {
          "output_type": "execute_result",
          "data": {
            "text/plain": [
              "array([2])"
            ]
          },
          "metadata": {
            "tags": []
          },
          "execution_count": 55
        }
      ]
    }
  ]
}